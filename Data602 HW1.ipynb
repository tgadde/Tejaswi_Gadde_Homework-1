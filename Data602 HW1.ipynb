{
 "cells": [
  {
   "cell_type": "code",
   "execution_count": 1,
   "metadata": {},
   "outputs": [],
   "source": [
    "import pandas as pd\n",
    "from sklearn import metrics\n",
    "import numpy as np\n",
    "from sklearn.model_selection import train_test_split\n",
    "from sklearn.preprocessing import StandardScaler\n",
    "from sklearn.metrics import mean_squared_error\n",
    "from itertools import combinations"
   ]
  },
  {
   "cell_type": "code",
   "execution_count": 2,
   "metadata": {},
   "outputs": [
    {
     "data": {
      "text/html": [
       "<div>\n",
       "<style scoped>\n",
       "    .dataframe tbody tr th:only-of-type {\n",
       "        vertical-align: middle;\n",
       "    }\n",
       "\n",
       "    .dataframe tbody tr th {\n",
       "        vertical-align: top;\n",
       "    }\n",
       "\n",
       "    .dataframe thead th {\n",
       "        text-align: right;\n",
       "    }\n",
       "</style>\n",
       "<table border=\"1\" class=\"dataframe\">\n",
       "  <thead>\n",
       "    <tr style=\"text-align: right;\">\n",
       "      <th></th>\n",
       "      <th>Id</th>\n",
       "      <th>MSSubClass</th>\n",
       "      <th>LotFrontage</th>\n",
       "      <th>LotArea</th>\n",
       "      <th>OverallQual</th>\n",
       "      <th>OverallCond</th>\n",
       "      <th>YearBuilt</th>\n",
       "      <th>YearRemodAdd</th>\n",
       "      <th>MasVnrArea</th>\n",
       "      <th>ExterQual</th>\n",
       "      <th>...</th>\n",
       "      <th>GarageType_NA</th>\n",
       "      <th>SaleType_COD</th>\n",
       "      <th>SaleType_CWD</th>\n",
       "      <th>SaleType_Con</th>\n",
       "      <th>SaleType_ConLD</th>\n",
       "      <th>SaleType_ConLI</th>\n",
       "      <th>SaleType_ConLw</th>\n",
       "      <th>SaleType_New</th>\n",
       "      <th>SaleType_Oth</th>\n",
       "      <th>SaleType_WD</th>\n",
       "    </tr>\n",
       "  </thead>\n",
       "  <tbody>\n",
       "    <tr>\n",
       "      <th>0</th>\n",
       "      <td>1</td>\n",
       "      <td>60</td>\n",
       "      <td>65.0</td>\n",
       "      <td>8450</td>\n",
       "      <td>7</td>\n",
       "      <td>5</td>\n",
       "      <td>2003</td>\n",
       "      <td>2003</td>\n",
       "      <td>196.0</td>\n",
       "      <td>Gd</td>\n",
       "      <td>...</td>\n",
       "      <td>0</td>\n",
       "      <td>0</td>\n",
       "      <td>0</td>\n",
       "      <td>0</td>\n",
       "      <td>0</td>\n",
       "      <td>0</td>\n",
       "      <td>0</td>\n",
       "      <td>0</td>\n",
       "      <td>0</td>\n",
       "      <td>1</td>\n",
       "    </tr>\n",
       "    <tr>\n",
       "      <th>1</th>\n",
       "      <td>2</td>\n",
       "      <td>20</td>\n",
       "      <td>80.0</td>\n",
       "      <td>9600</td>\n",
       "      <td>6</td>\n",
       "      <td>8</td>\n",
       "      <td>1976</td>\n",
       "      <td>1976</td>\n",
       "      <td>0.0</td>\n",
       "      <td>TA</td>\n",
       "      <td>...</td>\n",
       "      <td>0</td>\n",
       "      <td>0</td>\n",
       "      <td>0</td>\n",
       "      <td>0</td>\n",
       "      <td>0</td>\n",
       "      <td>0</td>\n",
       "      <td>0</td>\n",
       "      <td>0</td>\n",
       "      <td>0</td>\n",
       "      <td>1</td>\n",
       "    </tr>\n",
       "    <tr>\n",
       "      <th>2</th>\n",
       "      <td>3</td>\n",
       "      <td>60</td>\n",
       "      <td>68.0</td>\n",
       "      <td>11250</td>\n",
       "      <td>7</td>\n",
       "      <td>5</td>\n",
       "      <td>2001</td>\n",
       "      <td>2002</td>\n",
       "      <td>162.0</td>\n",
       "      <td>Gd</td>\n",
       "      <td>...</td>\n",
       "      <td>0</td>\n",
       "      <td>0</td>\n",
       "      <td>0</td>\n",
       "      <td>0</td>\n",
       "      <td>0</td>\n",
       "      <td>0</td>\n",
       "      <td>0</td>\n",
       "      <td>0</td>\n",
       "      <td>0</td>\n",
       "      <td>1</td>\n",
       "    </tr>\n",
       "    <tr>\n",
       "      <th>3</th>\n",
       "      <td>4</td>\n",
       "      <td>70</td>\n",
       "      <td>60.0</td>\n",
       "      <td>9550</td>\n",
       "      <td>7</td>\n",
       "      <td>5</td>\n",
       "      <td>1915</td>\n",
       "      <td>1970</td>\n",
       "      <td>0.0</td>\n",
       "      <td>TA</td>\n",
       "      <td>...</td>\n",
       "      <td>0</td>\n",
       "      <td>0</td>\n",
       "      <td>0</td>\n",
       "      <td>0</td>\n",
       "      <td>0</td>\n",
       "      <td>0</td>\n",
       "      <td>0</td>\n",
       "      <td>0</td>\n",
       "      <td>0</td>\n",
       "      <td>1</td>\n",
       "    </tr>\n",
       "    <tr>\n",
       "      <th>4</th>\n",
       "      <td>5</td>\n",
       "      <td>60</td>\n",
       "      <td>84.0</td>\n",
       "      <td>14260</td>\n",
       "      <td>8</td>\n",
       "      <td>5</td>\n",
       "      <td>2000</td>\n",
       "      <td>2000</td>\n",
       "      <td>350.0</td>\n",
       "      <td>Gd</td>\n",
       "      <td>...</td>\n",
       "      <td>0</td>\n",
       "      <td>0</td>\n",
       "      <td>0</td>\n",
       "      <td>0</td>\n",
       "      <td>0</td>\n",
       "      <td>0</td>\n",
       "      <td>0</td>\n",
       "      <td>0</td>\n",
       "      <td>0</td>\n",
       "      <td>1</td>\n",
       "    </tr>\n",
       "  </tbody>\n",
       "</table>\n",
       "<p>5 rows × 238 columns</p>\n",
       "</div>"
      ],
      "text/plain": [
       "   Id  MSSubClass  LotFrontage  LotArea  OverallQual  OverallCond  YearBuilt  \\\n",
       "0   1          60         65.0     8450            7            5       2003   \n",
       "1   2          20         80.0     9600            6            8       1976   \n",
       "2   3          60         68.0    11250            7            5       2001   \n",
       "3   4          70         60.0     9550            7            5       1915   \n",
       "4   5          60         84.0    14260            8            5       2000   \n",
       "\n",
       "   YearRemodAdd  MasVnrArea ExterQual  ... GarageType_NA SaleType_COD  \\\n",
       "0          2003       196.0        Gd  ...             0            0   \n",
       "1          1976         0.0        TA  ...             0            0   \n",
       "2          2002       162.0        Gd  ...             0            0   \n",
       "3          1970         0.0        TA  ...             0            0   \n",
       "4          2000       350.0        Gd  ...             0            0   \n",
       "\n",
       "  SaleType_CWD SaleType_Con SaleType_ConLD  SaleType_ConLI SaleType_ConLw  \\\n",
       "0            0            0              0               0              0   \n",
       "1            0            0              0               0              0   \n",
       "2            0            0              0               0              0   \n",
       "3            0            0              0               0              0   \n",
       "4            0            0              0               0              0   \n",
       "\n",
       "   SaleType_New  SaleType_Oth  SaleType_WD  \n",
       "0             0             0            1  \n",
       "1             0             0            1  \n",
       "2             0             0            1  \n",
       "3             0             0            1  \n",
       "4             0             0            1  \n",
       "\n",
       "[5 rows x 238 columns]"
      ]
     },
     "execution_count": 2,
     "metadata": {},
     "output_type": "execute_result"
    }
   ],
   "source": [
    "housing = pd.read_csv('C:/Users/tejas/Downloads/housing_processed.csv')\n",
    "housing.head()"
   ]
  },
  {
   "cell_type": "code",
   "execution_count": 3,
   "metadata": {},
   "outputs": [
    {
     "data": {
      "text/html": [
       "<div>\n",
       "<style scoped>\n",
       "    .dataframe tbody tr th:only-of-type {\n",
       "        vertical-align: middle;\n",
       "    }\n",
       "\n",
       "    .dataframe tbody tr th {\n",
       "        vertical-align: top;\n",
       "    }\n",
       "\n",
       "    .dataframe thead th {\n",
       "        text-align: right;\n",
       "    }\n",
       "</style>\n",
       "<table border=\"1\" class=\"dataframe\">\n",
       "  <thead>\n",
       "    <tr style=\"text-align: right;\">\n",
       "      <th></th>\n",
       "      <th>ExterQual</th>\n",
       "      <th>ExterQual_Coded</th>\n",
       "    </tr>\n",
       "  </thead>\n",
       "  <tbody>\n",
       "    <tr>\n",
       "      <th>0</th>\n",
       "      <td>Gd</td>\n",
       "      <td>3</td>\n",
       "    </tr>\n",
       "    <tr>\n",
       "      <th>1</th>\n",
       "      <td>TA</td>\n",
       "      <td>2</td>\n",
       "    </tr>\n",
       "    <tr>\n",
       "      <th>2</th>\n",
       "      <td>Gd</td>\n",
       "      <td>3</td>\n",
       "    </tr>\n",
       "    <tr>\n",
       "      <th>3</th>\n",
       "      <td>TA</td>\n",
       "      <td>2</td>\n",
       "    </tr>\n",
       "    <tr>\n",
       "      <th>4</th>\n",
       "      <td>Gd</td>\n",
       "      <td>3</td>\n",
       "    </tr>\n",
       "  </tbody>\n",
       "</table>\n",
       "</div>"
      ],
      "text/plain": [
       "  ExterQual  ExterQual_Coded\n",
       "0        Gd                3\n",
       "1        TA                2\n",
       "2        Gd                3\n",
       "3        TA                2\n",
       "4        Gd                3"
      ]
     },
     "execution_count": 3,
     "metadata": {},
     "output_type": "execute_result"
    }
   ],
   "source": [
    "housing[[\"ExterQual\",\"ExterQual_Coded\"]].head()"
   ]
  },
  {
   "cell_type": "code",
   "execution_count": 4,
   "metadata": {},
   "outputs": [
    {
     "data": {
      "text/plain": [
       "pandas.core.series.Series"
      ]
     },
     "execution_count": 4,
     "metadata": {},
     "output_type": "execute_result"
    }
   ],
   "source": [
    "type(housing.dtypes==object)"
   ]
  },
  {
   "cell_type": "code",
   "execution_count": 5,
   "metadata": {},
   "outputs": [
    {
     "data": {
      "text/plain": [
       "ExterQual       object\n",
       "ExterCond       object\n",
       "BsmtQual        object\n",
       "BsmtCond        object\n",
       "BsmtExposure    object\n",
       "BsmtFinType1    object\n",
       "BsmtFinType2    object\n",
       "HeatingQC       object\n",
       "CentralAir      object\n",
       "KitchenQual     object\n",
       "Functional      object\n",
       "FireplaceQu     object\n",
       "GarageFinish    object\n",
       "GarageQual      object\n",
       "GarageCond      object\n",
       "PavedDrive      object\n",
       "dtype: object"
      ]
     },
     "execution_count": 5,
     "metadata": {},
     "output_type": "execute_result"
    }
   ],
   "source": [
    "housing.dtypes[housing.dtypes==object]"
   ]
  },
  {
   "cell_type": "code",
   "execution_count": 6,
   "metadata": {},
   "outputs": [
    {
     "data": {
      "text/plain": [
       "(16,)"
      ]
     },
     "execution_count": 6,
     "metadata": {},
     "output_type": "execute_result"
    }
   ],
   "source": [
    "housing.dtypes[housing.dtypes==object].shape"
   ]
  },
  {
   "cell_type": "code",
   "execution_count": 7,
   "metadata": {},
   "outputs": [
    {
     "data": {
      "text/plain": [
       "True"
      ]
     },
     "execution_count": 7,
     "metadata": {},
     "output_type": "execute_result"
    }
   ],
   "source": [
    "\"SalePrice\" in housing.columns"
   ]
  },
  {
   "cell_type": "code",
   "execution_count": 8,
   "metadata": {},
   "outputs": [
    {
     "data": {
      "text/plain": [
       "238"
      ]
     },
     "execution_count": 8,
     "metadata": {},
     "output_type": "execute_result"
    }
   ],
   "source": [
    "len(housing.columns)"
   ]
  },
  {
   "cell_type": "code",
   "execution_count": 9,
   "metadata": {},
   "outputs": [],
   "source": [
    "# We could drop columns by name:\n",
    "housing_ml = housing.drop(columns=[\"ExterQual\"])"
   ]
  },
  {
   "cell_type": "code",
   "execution_count": 10,
   "metadata": {},
   "outputs": [],
   "source": [
    "housing_ml = housing.loc[:,housing.dtypes != object]"
   ]
  },
  {
   "cell_type": "code",
   "execution_count": 11,
   "metadata": {},
   "outputs": [
    {
     "data": {
      "text/plain": [
       "222"
      ]
     },
     "execution_count": 11,
     "metadata": {},
     "output_type": "execute_result"
    }
   ],
   "source": [
    "len(housing_ml.columns)"
   ]
  },
  {
   "cell_type": "code",
   "execution_count": 12,
   "metadata": {},
   "outputs": [
    {
     "data": {
      "text/plain": [
       "(1460, 222)"
      ]
     },
     "execution_count": 12,
     "metadata": {},
     "output_type": "execute_result"
    }
   ],
   "source": [
    "housing_ml.shape"
   ]
  },
  {
   "cell_type": "code",
   "execution_count": 13,
   "metadata": {},
   "outputs": [
    {
     "data": {
      "text/plain": [
       "pandas.core.series.Series"
      ]
     },
     "execution_count": 13,
     "metadata": {},
     "output_type": "execute_result"
    }
   ],
   "source": [
    "# Split data as features and target\n",
    "# take \"SalePrice\" values into its own 1-D array \n",
    "sale_price = housing_ml.pop('SalePrice')\n",
    "type(sale_price)"
   ]
  },
  {
   "cell_type": "code",
   "execution_count": 14,
   "metadata": {},
   "outputs": [
    {
     "data": {
      "text/plain": [
       "(1460,)"
      ]
     },
     "execution_count": 14,
     "metadata": {},
     "output_type": "execute_result"
    }
   ],
   "source": [
    "sale_price.shape"
   ]
  },
  {
   "cell_type": "code",
   "execution_count": 15,
   "metadata": {},
   "outputs": [
    {
     "data": {
      "text/plain": [
       "(1460, 221)"
      ]
     },
     "execution_count": 15,
     "metadata": {},
     "output_type": "execute_result"
    }
   ],
   "source": [
    "# pop removes the column\n",
    "# \"in place\" operation\n",
    "# now housing_ml has one less column\n",
    "housing_ml.shape"
   ]
  },
  {
   "cell_type": "code",
   "execution_count": 16,
   "metadata": {},
   "outputs": [
    {
     "data": {
      "text/plain": [
       "numpy.ndarray"
      ]
     },
     "execution_count": 16,
     "metadata": {},
     "output_type": "execute_result"
    }
   ],
   "source": [
    "y = sale_price.values\n",
    "type(y)"
   ]
  },
  {
   "cell_type": "code",
   "execution_count": 17,
   "metadata": {},
   "outputs": [
    {
     "data": {
      "text/plain": [
       "(1460,)"
      ]
     },
     "execution_count": 17,
     "metadata": {},
     "output_type": "execute_result"
    }
   ],
   "source": [
    "y.shape\n",
    "# (1460,)\n",
    "# it is equivalent to (1460)\n",
    "# means it is a 1-d array"
   ]
  },
  {
   "cell_type": "code",
   "execution_count": 18,
   "metadata": {},
   "outputs": [],
   "source": [
    "\n",
    "X = housing_ml.values"
   ]
  },
  {
   "cell_type": "code",
   "execution_count": 19,
   "metadata": {},
   "outputs": [
    {
     "data": {
      "text/plain": [
       "(1460, 221)"
      ]
     },
     "execution_count": 19,
     "metadata": {},
     "output_type": "execute_result"
    }
   ],
   "source": [
    "X.shape"
   ]
  },
  {
   "cell_type": "code",
   "execution_count": 20,
   "metadata": {},
   "outputs": [
    {
     "data": {
      "text/plain": [
       "True"
      ]
     },
     "execution_count": 20,
     "metadata": {},
     "output_type": "execute_result"
    }
   ],
   "source": [
    "X.shape[0] == y.shape[0]"
   ]
  },
  {
   "cell_type": "code",
   "execution_count": 21,
   "metadata": {},
   "outputs": [
    {
     "data": {
      "text/plain": [
       "DummyRegressor()"
      ]
     },
     "execution_count": 21,
     "metadata": {},
     "output_type": "execute_result"
    }
   ],
   "source": [
    "# Import estimator\n",
    "from sklearn.dummy import DummyRegressor\n",
    "# Instantiate estimator\n",
    "# guess the mean every single time\n",
    "mean_reg = DummyRegressor(strategy='mean')\n",
    "# fit estimator\n",
    "mean_reg.fit(X, y)"
   ]
  },
  {
   "cell_type": "code",
   "execution_count": 22,
   "metadata": {},
   "outputs": [
    {
     "data": {
      "text/plain": [
       "array([180921.19589041, 180921.19589041, 180921.19589041, ...,\n",
       "       180921.19589041, 180921.19589041, 180921.19589041])"
      ]
     },
     "execution_count": 22,
     "metadata": {},
     "output_type": "execute_result"
    }
   ],
   "source": [
    "# predict\n",
    "mean_reg.predict(X)"
   ]
  },
  {
   "cell_type": "code",
   "execution_count": 23,
   "metadata": {},
   "outputs": [
    {
     "data": {
      "text/plain": [
       "0.0"
      ]
     },
     "execution_count": 23,
     "metadata": {},
     "output_type": "execute_result"
    }
   ],
   "source": [
    "mean_reg.score(X, y)"
   ]
  },
  {
   "cell_type": "code",
   "execution_count": 24,
   "metadata": {},
   "outputs": [],
   "source": [
    "from sklearn.linear_model import LinearRegression\n",
    "linear_model = LinearRegression()"
   ]
  },
  {
   "cell_type": "code",
   "execution_count": 25,
   "metadata": {},
   "outputs": [
    {
     "data": {
      "text/html": [
       "<div>\n",
       "<style scoped>\n",
       "    .dataframe tbody tr th:only-of-type {\n",
       "        vertical-align: middle;\n",
       "    }\n",
       "\n",
       "    .dataframe tbody tr th {\n",
       "        vertical-align: top;\n",
       "    }\n",
       "\n",
       "    .dataframe thead th {\n",
       "        text-align: right;\n",
       "    }\n",
       "</style>\n",
       "<table border=\"1\" class=\"dataframe\">\n",
       "  <thead>\n",
       "    <tr style=\"text-align: right;\">\n",
       "      <th></th>\n",
       "      <th>LotFrontage</th>\n",
       "    </tr>\n",
       "  </thead>\n",
       "  <tbody>\n",
       "    <tr>\n",
       "      <th>0</th>\n",
       "      <td>65.0</td>\n",
       "    </tr>\n",
       "    <tr>\n",
       "      <th>1</th>\n",
       "      <td>80.0</td>\n",
       "    </tr>\n",
       "    <tr>\n",
       "      <th>2</th>\n",
       "      <td>68.0</td>\n",
       "    </tr>\n",
       "    <tr>\n",
       "      <th>3</th>\n",
       "      <td>60.0</td>\n",
       "    </tr>\n",
       "    <tr>\n",
       "      <th>4</th>\n",
       "      <td>84.0</td>\n",
       "    </tr>\n",
       "    <tr>\n",
       "      <th>...</th>\n",
       "      <td>...</td>\n",
       "    </tr>\n",
       "    <tr>\n",
       "      <th>1455</th>\n",
       "      <td>62.0</td>\n",
       "    </tr>\n",
       "    <tr>\n",
       "      <th>1456</th>\n",
       "      <td>85.0</td>\n",
       "    </tr>\n",
       "    <tr>\n",
       "      <th>1457</th>\n",
       "      <td>66.0</td>\n",
       "    </tr>\n",
       "    <tr>\n",
       "      <th>1458</th>\n",
       "      <td>68.0</td>\n",
       "    </tr>\n",
       "    <tr>\n",
       "      <th>1459</th>\n",
       "      <td>75.0</td>\n",
       "    </tr>\n",
       "  </tbody>\n",
       "</table>\n",
       "<p>1460 rows × 1 columns</p>\n",
       "</div>"
      ],
      "text/plain": [
       "      LotFrontage\n",
       "0            65.0\n",
       "1            80.0\n",
       "2            68.0\n",
       "3            60.0\n",
       "4            84.0\n",
       "...           ...\n",
       "1455         62.0\n",
       "1456         85.0\n",
       "1457         66.0\n",
       "1458         68.0\n",
       "1459         75.0\n",
       "\n",
       "[1460 rows x 1 columns]"
      ]
     },
     "execution_count": 25,
     "metadata": {},
     "output_type": "execute_result"
    }
   ],
   "source": [
    "X_lf = housing_ml[['LotFrontage']]\n",
    "X_lf"
   ]
  },
  {
   "cell_type": "code",
   "execution_count": 26,
   "metadata": {},
   "outputs": [
    {
     "data": {
      "text/plain": [
       "LinearRegression()"
      ]
     },
     "execution_count": 26,
     "metadata": {},
     "output_type": "execute_result"
    }
   ],
   "source": [
    "linear_model.fit(X_lf, y)"
   ]
  },
  {
   "cell_type": "code",
   "execution_count": 27,
   "metadata": {},
   "outputs": [
    {
     "data": {
      "text/plain": [
       "0.918472889091411"
      ]
     },
     "execution_count": 27,
     "metadata": {},
     "output_type": "execute_result"
    }
   ],
   "source": [
    "linear_model.fit(X, y)\n",
    "linear_model.score(X, y)"
   ]
  },
  {
   "cell_type": "code",
   "execution_count": null,
   "metadata": {},
   "outputs": [],
   "source": [
    "y_pred = linear_model.predict(X_lf)\n",
    "y_pred"
   ]
  },
  {
   "cell_type": "code",
   "execution_count": 30,
   "metadata": {},
   "outputs": [
    {
     "data": {
      "text/plain": [
       "(1460, 1)"
      ]
     },
     "execution_count": 30,
     "metadata": {},
     "output_type": "execute_result"
    }
   ],
   "source": [
    "X_lf.shape\n",
    "linear_model.score(X_lf, y)"
   ]
  },
  {
   "cell_type": "code",
   "execution_count": 32,
   "metadata": {},
   "outputs": [
    {
     "data": {
      "text/plain": [
       "array([208500, 181500, 223500, ..., 266500, 142125, 147500], dtype=int64)"
      ]
     },
     "execution_count": 32,
     "metadata": {},
     "output_type": "execute_result"
    }
   ],
   "source": [
    "y"
   ]
  },
  {
   "cell_type": "code",
   "execution_count": 33,
   "metadata": {},
   "outputs": [],
   "source": [
    "import matplotlib.pyplot as plt\n",
    "%matplotlib inline\n",
    "plt.figure(figsize=(12, 5))\n",
    "plt.scatter(y, y_pred);"
   ]
  },
  {
   "cell_type": "code",
   "execution_count": 35,
   "metadata": {},
   "outputs": [
    {
     "data": {
      "text/html": [
       "<div>\n",
       "<style scoped>\n",
       "    .dataframe tbody tr th:only-of-type {\n",
       "        vertical-align: middle;\n",
       "    }\n",
       "\n",
       "    .dataframe tbody tr th {\n",
       "        vertical-align: top;\n",
       "    }\n",
       "\n",
       "    .dataframe thead th {\n",
       "        text-align: right;\n",
       "    }\n",
       "</style>\n",
       "<table border=\"1\" class=\"dataframe\">\n",
       "  <thead>\n",
       "    <tr style=\"text-align: right;\">\n",
       "      <th></th>\n",
       "      <th>Id</th>\n",
       "      <th>MSSubClass</th>\n",
       "      <th>LotFrontage</th>\n",
       "      <th>LotArea</th>\n",
       "      <th>OverallQual</th>\n",
       "      <th>OverallCond</th>\n",
       "      <th>YearBuilt</th>\n",
       "      <th>YearRemodAdd</th>\n",
       "      <th>MasVnrArea</th>\n",
       "      <th>BsmtFinSF1</th>\n",
       "      <th>...</th>\n",
       "      <th>GarageType_NA</th>\n",
       "      <th>SaleType_COD</th>\n",
       "      <th>SaleType_CWD</th>\n",
       "      <th>SaleType_Con</th>\n",
       "      <th>SaleType_ConLD</th>\n",
       "      <th>SaleType_ConLI</th>\n",
       "      <th>SaleType_ConLw</th>\n",
       "      <th>SaleType_New</th>\n",
       "      <th>SaleType_Oth</th>\n",
       "      <th>SaleType_WD</th>\n",
       "    </tr>\n",
       "  </thead>\n",
       "  <tbody>\n",
       "    <tr>\n",
       "      <th>0</th>\n",
       "      <td>1</td>\n",
       "      <td>60</td>\n",
       "      <td>65.0</td>\n",
       "      <td>8450</td>\n",
       "      <td>7</td>\n",
       "      <td>5</td>\n",
       "      <td>2003</td>\n",
       "      <td>2003</td>\n",
       "      <td>196.0</td>\n",
       "      <td>706</td>\n",
       "      <td>...</td>\n",
       "      <td>0</td>\n",
       "      <td>0</td>\n",
       "      <td>0</td>\n",
       "      <td>0</td>\n",
       "      <td>0</td>\n",
       "      <td>0</td>\n",
       "      <td>0</td>\n",
       "      <td>0</td>\n",
       "      <td>0</td>\n",
       "      <td>1</td>\n",
       "    </tr>\n",
       "    <tr>\n",
       "      <th>1</th>\n",
       "      <td>2</td>\n",
       "      <td>20</td>\n",
       "      <td>80.0</td>\n",
       "      <td>9600</td>\n",
       "      <td>6</td>\n",
       "      <td>8</td>\n",
       "      <td>1976</td>\n",
       "      <td>1976</td>\n",
       "      <td>0.0</td>\n",
       "      <td>978</td>\n",
       "      <td>...</td>\n",
       "      <td>0</td>\n",
       "      <td>0</td>\n",
       "      <td>0</td>\n",
       "      <td>0</td>\n",
       "      <td>0</td>\n",
       "      <td>0</td>\n",
       "      <td>0</td>\n",
       "      <td>0</td>\n",
       "      <td>0</td>\n",
       "      <td>1</td>\n",
       "    </tr>\n",
       "    <tr>\n",
       "      <th>2</th>\n",
       "      <td>3</td>\n",
       "      <td>60</td>\n",
       "      <td>68.0</td>\n",
       "      <td>11250</td>\n",
       "      <td>7</td>\n",
       "      <td>5</td>\n",
       "      <td>2001</td>\n",
       "      <td>2002</td>\n",
       "      <td>162.0</td>\n",
       "      <td>486</td>\n",
       "      <td>...</td>\n",
       "      <td>0</td>\n",
       "      <td>0</td>\n",
       "      <td>0</td>\n",
       "      <td>0</td>\n",
       "      <td>0</td>\n",
       "      <td>0</td>\n",
       "      <td>0</td>\n",
       "      <td>0</td>\n",
       "      <td>0</td>\n",
       "      <td>1</td>\n",
       "    </tr>\n",
       "    <tr>\n",
       "      <th>3</th>\n",
       "      <td>4</td>\n",
       "      <td>70</td>\n",
       "      <td>60.0</td>\n",
       "      <td>9550</td>\n",
       "      <td>7</td>\n",
       "      <td>5</td>\n",
       "      <td>1915</td>\n",
       "      <td>1970</td>\n",
       "      <td>0.0</td>\n",
       "      <td>216</td>\n",
       "      <td>...</td>\n",
       "      <td>0</td>\n",
       "      <td>0</td>\n",
       "      <td>0</td>\n",
       "      <td>0</td>\n",
       "      <td>0</td>\n",
       "      <td>0</td>\n",
       "      <td>0</td>\n",
       "      <td>0</td>\n",
       "      <td>0</td>\n",
       "      <td>1</td>\n",
       "    </tr>\n",
       "    <tr>\n",
       "      <th>4</th>\n",
       "      <td>5</td>\n",
       "      <td>60</td>\n",
       "      <td>84.0</td>\n",
       "      <td>14260</td>\n",
       "      <td>8</td>\n",
       "      <td>5</td>\n",
       "      <td>2000</td>\n",
       "      <td>2000</td>\n",
       "      <td>350.0</td>\n",
       "      <td>655</td>\n",
       "      <td>...</td>\n",
       "      <td>0</td>\n",
       "      <td>0</td>\n",
       "      <td>0</td>\n",
       "      <td>0</td>\n",
       "      <td>0</td>\n",
       "      <td>0</td>\n",
       "      <td>0</td>\n",
       "      <td>0</td>\n",
       "      <td>0</td>\n",
       "      <td>1</td>\n",
       "    </tr>\n",
       "    <tr>\n",
       "      <th>...</th>\n",
       "      <td>...</td>\n",
       "      <td>...</td>\n",
       "      <td>...</td>\n",
       "      <td>...</td>\n",
       "      <td>...</td>\n",
       "      <td>...</td>\n",
       "      <td>...</td>\n",
       "      <td>...</td>\n",
       "      <td>...</td>\n",
       "      <td>...</td>\n",
       "      <td>...</td>\n",
       "      <td>...</td>\n",
       "      <td>...</td>\n",
       "      <td>...</td>\n",
       "      <td>...</td>\n",
       "      <td>...</td>\n",
       "      <td>...</td>\n",
       "      <td>...</td>\n",
       "      <td>...</td>\n",
       "      <td>...</td>\n",
       "      <td>...</td>\n",
       "    </tr>\n",
       "    <tr>\n",
       "      <th>1455</th>\n",
       "      <td>1456</td>\n",
       "      <td>60</td>\n",
       "      <td>62.0</td>\n",
       "      <td>7917</td>\n",
       "      <td>6</td>\n",
       "      <td>5</td>\n",
       "      <td>1999</td>\n",
       "      <td>2000</td>\n",
       "      <td>0.0</td>\n",
       "      <td>0</td>\n",
       "      <td>...</td>\n",
       "      <td>0</td>\n",
       "      <td>0</td>\n",
       "      <td>0</td>\n",
       "      <td>0</td>\n",
       "      <td>0</td>\n",
       "      <td>0</td>\n",
       "      <td>0</td>\n",
       "      <td>0</td>\n",
       "      <td>0</td>\n",
       "      <td>1</td>\n",
       "    </tr>\n",
       "    <tr>\n",
       "      <th>1456</th>\n",
       "      <td>1457</td>\n",
       "      <td>20</td>\n",
       "      <td>85.0</td>\n",
       "      <td>13175</td>\n",
       "      <td>6</td>\n",
       "      <td>6</td>\n",
       "      <td>1978</td>\n",
       "      <td>1988</td>\n",
       "      <td>119.0</td>\n",
       "      <td>790</td>\n",
       "      <td>...</td>\n",
       "      <td>0</td>\n",
       "      <td>0</td>\n",
       "      <td>0</td>\n",
       "      <td>0</td>\n",
       "      <td>0</td>\n",
       "      <td>0</td>\n",
       "      <td>0</td>\n",
       "      <td>0</td>\n",
       "      <td>0</td>\n",
       "      <td>1</td>\n",
       "    </tr>\n",
       "    <tr>\n",
       "      <th>1457</th>\n",
       "      <td>1458</td>\n",
       "      <td>70</td>\n",
       "      <td>66.0</td>\n",
       "      <td>9042</td>\n",
       "      <td>7</td>\n",
       "      <td>9</td>\n",
       "      <td>1941</td>\n",
       "      <td>2006</td>\n",
       "      <td>0.0</td>\n",
       "      <td>275</td>\n",
       "      <td>...</td>\n",
       "      <td>0</td>\n",
       "      <td>0</td>\n",
       "      <td>0</td>\n",
       "      <td>0</td>\n",
       "      <td>0</td>\n",
       "      <td>0</td>\n",
       "      <td>0</td>\n",
       "      <td>0</td>\n",
       "      <td>0</td>\n",
       "      <td>1</td>\n",
       "    </tr>\n",
       "    <tr>\n",
       "      <th>1458</th>\n",
       "      <td>1459</td>\n",
       "      <td>20</td>\n",
       "      <td>68.0</td>\n",
       "      <td>9717</td>\n",
       "      <td>5</td>\n",
       "      <td>6</td>\n",
       "      <td>1950</td>\n",
       "      <td>1996</td>\n",
       "      <td>0.0</td>\n",
       "      <td>49</td>\n",
       "      <td>...</td>\n",
       "      <td>0</td>\n",
       "      <td>0</td>\n",
       "      <td>0</td>\n",
       "      <td>0</td>\n",
       "      <td>0</td>\n",
       "      <td>0</td>\n",
       "      <td>0</td>\n",
       "      <td>0</td>\n",
       "      <td>0</td>\n",
       "      <td>1</td>\n",
       "    </tr>\n",
       "    <tr>\n",
       "      <th>1459</th>\n",
       "      <td>1460</td>\n",
       "      <td>20</td>\n",
       "      <td>75.0</td>\n",
       "      <td>9937</td>\n",
       "      <td>5</td>\n",
       "      <td>6</td>\n",
       "      <td>1965</td>\n",
       "      <td>1965</td>\n",
       "      <td>0.0</td>\n",
       "      <td>830</td>\n",
       "      <td>...</td>\n",
       "      <td>0</td>\n",
       "      <td>0</td>\n",
       "      <td>0</td>\n",
       "      <td>0</td>\n",
       "      <td>0</td>\n",
       "      <td>0</td>\n",
       "      <td>0</td>\n",
       "      <td>0</td>\n",
       "      <td>0</td>\n",
       "      <td>1</td>\n",
       "    </tr>\n",
       "  </tbody>\n",
       "</table>\n",
       "<p>1460 rows × 221 columns</p>\n",
       "</div>"
      ],
      "text/plain": [
       "        Id  MSSubClass  LotFrontage  LotArea  OverallQual  OverallCond  \\\n",
       "0        1          60         65.0     8450            7            5   \n",
       "1        2          20         80.0     9600            6            8   \n",
       "2        3          60         68.0    11250            7            5   \n",
       "3        4          70         60.0     9550            7            5   \n",
       "4        5          60         84.0    14260            8            5   \n",
       "...    ...         ...          ...      ...          ...          ...   \n",
       "1455  1456          60         62.0     7917            6            5   \n",
       "1456  1457          20         85.0    13175            6            6   \n",
       "1457  1458          70         66.0     9042            7            9   \n",
       "1458  1459          20         68.0     9717            5            6   \n",
       "1459  1460          20         75.0     9937            5            6   \n",
       "\n",
       "      YearBuilt  YearRemodAdd  MasVnrArea  BsmtFinSF1  ...  GarageType_NA  \\\n",
       "0          2003          2003       196.0         706  ...              0   \n",
       "1          1976          1976         0.0         978  ...              0   \n",
       "2          2001          2002       162.0         486  ...              0   \n",
       "3          1915          1970         0.0         216  ...              0   \n",
       "4          2000          2000       350.0         655  ...              0   \n",
       "...         ...           ...         ...         ...  ...            ...   \n",
       "1455       1999          2000         0.0           0  ...              0   \n",
       "1456       1978          1988       119.0         790  ...              0   \n",
       "1457       1941          2006         0.0         275  ...              0   \n",
       "1458       1950          1996         0.0          49  ...              0   \n",
       "1459       1965          1965         0.0         830  ...              0   \n",
       "\n",
       "      SaleType_COD  SaleType_CWD  SaleType_Con  SaleType_ConLD  \\\n",
       "0                0             0             0               0   \n",
       "1                0             0             0               0   \n",
       "2                0             0             0               0   \n",
       "3                0             0             0               0   \n",
       "4                0             0             0               0   \n",
       "...            ...           ...           ...             ...   \n",
       "1455             0             0             0               0   \n",
       "1456             0             0             0               0   \n",
       "1457             0             0             0               0   \n",
       "1458             0             0             0               0   \n",
       "1459             0             0             0               0   \n",
       "\n",
       "      SaleType_ConLI  SaleType_ConLw  SaleType_New  SaleType_Oth  SaleType_WD  \n",
       "0                  0               0             0             0            1  \n",
       "1                  0               0             0             0            1  \n",
       "2                  0               0             0             0            1  \n",
       "3                  0               0             0             0            1  \n",
       "4                  0               0             0             0            1  \n",
       "...              ...             ...           ...           ...          ...  \n",
       "1455               0               0             0             0            1  \n",
       "1456               0               0             0             0            1  \n",
       "1457               0               0             0             0            1  \n",
       "1458               0               0             0             0            1  \n",
       "1459               0               0             0             0            1  \n",
       "\n",
       "[1460 rows x 221 columns]"
      ]
     },
     "execution_count": 35,
     "metadata": {},
     "output_type": "execute_result"
    }
   ],
   "source": [
    "housing_ml"
   ]
  },
  {
   "cell_type": "code",
   "execution_count": 36,
   "metadata": {},
   "outputs": [],
   "source": [
    "X=housing_ml"
   ]
  },
  {
   "cell_type": "code",
   "execution_count": 40,
   "metadata": {},
   "outputs": [],
   "source": [
    "y=sale_price.values"
   ]
  },
  {
   "cell_type": "code",
   "execution_count": 41,
   "metadata": {},
   "outputs": [],
   "source": [
    "#Splitting the data set into train and test\n",
    "X_train, X_test, y_train, y_test = train_test_split(X, y, train_size=0.8, random_state=21)"
   ]
  },
  {
   "cell_type": "code",
   "execution_count": 42,
   "metadata": {},
   "outputs": [
    {
     "data": {
      "text/plain": [
       "(1168, 1)"
      ]
     },
     "execution_count": 42,
     "metadata": {},
     "output_type": "execute_result"
    }
   ],
   "source": [
    "X_train[['Id']].shape"
   ]
  },
  {
   "cell_type": "code",
   "execution_count": 43,
   "metadata": {},
   "outputs": [
    {
     "data": {
      "text/plain": [
       "Id                  int64\n",
       "MSSubClass          int64\n",
       "LotFrontage       float64\n",
       "LotArea             int64\n",
       "OverallQual         int64\n",
       "                   ...   \n",
       "SaleType_ConLI      int64\n",
       "SaleType_ConLw      int64\n",
       "SaleType_New        int64\n",
       "SaleType_Oth        int64\n",
       "SaleType_WD         int64\n",
       "Length: 221, dtype: object"
      ]
     },
     "execution_count": 43,
     "metadata": {},
     "output_type": "execute_result"
    }
   ],
   "source": [
    "X_train.dtypes"
   ]
  },
  {
   "cell_type": "code",
   "execution_count": 44,
   "metadata": {},
   "outputs": [],
   "source": [
    "#Training the model with each feauture one at a time\n",
    "empty_df = pd.DataFrame(columns = ['Feauture', 'train_score','test_score' ,'RMSE'])\n",
    "for i in X_train:\n",
    "    column_name=i\n",
    "    X_all=X_train[[i]]\n",
    "    linear_model.fit(X_all, y_train)\n",
    "    y_pred_all = linear_model.predict(X_test[[i]])\n",
    "    feauture_scores=linear_model.score(X_all, y_train)\n",
    "    test_feauture_scores=linear_model.score(X_test[[i]], y_test)\n",
    "    Rmse=np.sqrt(metrics.mean_squared_error(y_test,y_pred_all))\n",
    "    empty_df = empty_df.append({'Feauture' : column_name, 'train_score' : feauture_scores,'test_score': test_feauture_scores,'RMSE' : Rmse}, \n",
    "                ignore_index = True)"
   ]
  },
  {
   "cell_type": "code",
   "execution_count": 45,
   "metadata": {},
   "outputs": [
    {
     "data": {
      "text/html": [
       "<div>\n",
       "<style scoped>\n",
       "    .dataframe tbody tr th:only-of-type {\n",
       "        vertical-align: middle;\n",
       "    }\n",
       "\n",
       "    .dataframe tbody tr th {\n",
       "        vertical-align: top;\n",
       "    }\n",
       "\n",
       "    .dataframe thead th {\n",
       "        text-align: right;\n",
       "    }\n",
       "</style>\n",
       "<table border=\"1\" class=\"dataframe\">\n",
       "  <thead>\n",
       "    <tr style=\"text-align: right;\">\n",
       "      <th></th>\n",
       "      <th>Feauture</th>\n",
       "      <th>train_score</th>\n",
       "      <th>test_score</th>\n",
       "      <th>RMSE</th>\n",
       "    </tr>\n",
       "  </thead>\n",
       "  <tbody>\n",
       "    <tr>\n",
       "      <th>0</th>\n",
       "      <td>Id</td>\n",
       "      <td>0.000750</td>\n",
       "      <td>-0.000807</td>\n",
       "      <td>82357.650982</td>\n",
       "    </tr>\n",
       "    <tr>\n",
       "      <th>1</th>\n",
       "      <td>MSSubClass</td>\n",
       "      <td>0.006301</td>\n",
       "      <td>0.009706</td>\n",
       "      <td>81923.935781</td>\n",
       "    </tr>\n",
       "    <tr>\n",
       "      <th>2</th>\n",
       "      <td>LotFrontage</td>\n",
       "      <td>0.111296</td>\n",
       "      <td>0.114481</td>\n",
       "      <td>77468.943523</td>\n",
       "    </tr>\n",
       "    <tr>\n",
       "      <th>3</th>\n",
       "      <td>LotArea</td>\n",
       "      <td>0.065862</td>\n",
       "      <td>0.079231</td>\n",
       "      <td>78995.796162</td>\n",
       "    </tr>\n",
       "    <tr>\n",
       "      <th>4</th>\n",
       "      <td>OverallQual</td>\n",
       "      <td>0.620145</td>\n",
       "      <td>0.645463</td>\n",
       "      <td>49018.435788</td>\n",
       "    </tr>\n",
       "    <tr>\n",
       "      <th>...</th>\n",
       "      <td>...</td>\n",
       "      <td>...</td>\n",
       "      <td>...</td>\n",
       "      <td>...</td>\n",
       "    </tr>\n",
       "    <tr>\n",
       "      <th>216</th>\n",
       "      <td>SaleType_ConLI</td>\n",
       "      <td>0.002522</td>\n",
       "      <td>-0.017066</td>\n",
       "      <td>83023.915840</td>\n",
       "    </tr>\n",
       "    <tr>\n",
       "      <th>217</th>\n",
       "      <td>SaleType_ConLw</td>\n",
       "      <td>0.001583</td>\n",
       "      <td>-0.003102</td>\n",
       "      <td>82452.021869</td>\n",
       "    </tr>\n",
       "    <tr>\n",
       "      <th>218</th>\n",
       "      <td>SaleType_New</td>\n",
       "      <td>0.127505</td>\n",
       "      <td>0.128701</td>\n",
       "      <td>76844.414403</td>\n",
       "    </tr>\n",
       "    <tr>\n",
       "      <th>219</th>\n",
       "      <td>SaleType_Oth</td>\n",
       "      <td>0.000642</td>\n",
       "      <td>0.002900</td>\n",
       "      <td>82204.964657</td>\n",
       "    </tr>\n",
       "    <tr>\n",
       "      <th>220</th>\n",
       "      <td>SaleType_WD</td>\n",
       "      <td>0.065960</td>\n",
       "      <td>0.031580</td>\n",
       "      <td>81014.083229</td>\n",
       "    </tr>\n",
       "  </tbody>\n",
       "</table>\n",
       "<p>221 rows × 4 columns</p>\n",
       "</div>"
      ],
      "text/plain": [
       "           Feauture  train_score  test_score          RMSE\n",
       "0                Id     0.000750   -0.000807  82357.650982\n",
       "1        MSSubClass     0.006301    0.009706  81923.935781\n",
       "2       LotFrontage     0.111296    0.114481  77468.943523\n",
       "3           LotArea     0.065862    0.079231  78995.796162\n",
       "4       OverallQual     0.620145    0.645463  49018.435788\n",
       "..              ...          ...         ...           ...\n",
       "216  SaleType_ConLI     0.002522   -0.017066  83023.915840\n",
       "217  SaleType_ConLw     0.001583   -0.003102  82452.021869\n",
       "218    SaleType_New     0.127505    0.128701  76844.414403\n",
       "219    SaleType_Oth     0.000642    0.002900  82204.964657\n",
       "220     SaleType_WD     0.065960    0.031580  81014.083229\n",
       "\n",
       "[221 rows x 4 columns]"
      ]
     },
     "execution_count": 45,
     "metadata": {},
     "output_type": "execute_result"
    }
   ],
   "source": [
    "empty_df"
   ]
  },
  {
   "cell_type": "code",
   "execution_count": 46,
   "metadata": {},
   "outputs": [
    {
     "data": {
      "text/html": [
       "<div>\n",
       "<style scoped>\n",
       "    .dataframe tbody tr th:only-of-type {\n",
       "        vertical-align: middle;\n",
       "    }\n",
       "\n",
       "    .dataframe tbody tr th {\n",
       "        vertical-align: top;\n",
       "    }\n",
       "\n",
       "    .dataframe thead th {\n",
       "        text-align: right;\n",
       "    }\n",
       "</style>\n",
       "<table border=\"1\" class=\"dataframe\">\n",
       "  <thead>\n",
       "    <tr style=\"text-align: right;\">\n",
       "      <th></th>\n",
       "      <th>Feauture</th>\n",
       "      <th>train_score</th>\n",
       "      <th>test_score</th>\n",
       "      <th>RMSE</th>\n",
       "    </tr>\n",
       "  </thead>\n",
       "  <tbody>\n",
       "    <tr>\n",
       "      <th>4</th>\n",
       "      <td>OverallQual</td>\n",
       "      <td>0.620145</td>\n",
       "      <td>0.645463</td>\n",
       "      <td>49018.435788</td>\n",
       "    </tr>\n",
       "    <tr>\n",
       "      <th>36</th>\n",
       "      <td>ExterQual_Coded</td>\n",
       "      <td>0.456558</td>\n",
       "      <td>0.499175</td>\n",
       "      <td>58260.148655</td>\n",
       "    </tr>\n",
       "    <tr>\n",
       "      <th>16</th>\n",
       "      <td>GrLivArea</td>\n",
       "      <td>0.517889</td>\n",
       "      <td>0.444290</td>\n",
       "      <td>61369.555159</td>\n",
       "    </tr>\n",
       "    <tr>\n",
       "      <th>44</th>\n",
       "      <td>KitchenQual_Coded</td>\n",
       "      <td>0.433710</td>\n",
       "      <td>0.439703</td>\n",
       "      <td>61622.301138</td>\n",
       "    </tr>\n",
       "    <tr>\n",
       "      <th>12</th>\n",
       "      <td>TotalBsmtSF</td>\n",
       "      <td>0.363021</td>\n",
       "      <td>0.424913</td>\n",
       "      <td>62430.331676</td>\n",
       "    </tr>\n",
       "    <tr>\n",
       "      <th>13</th>\n",
       "      <td>1stFlrSF</td>\n",
       "      <td>0.353373</td>\n",
       "      <td>0.416668</td>\n",
       "      <td>62876.256239</td>\n",
       "    </tr>\n",
       "    <tr>\n",
       "      <th>25</th>\n",
       "      <td>GarageCars</td>\n",
       "      <td>0.409449</td>\n",
       "      <td>0.411931</td>\n",
       "      <td>63131.022101</td>\n",
       "    </tr>\n",
       "    <tr>\n",
       "      <th>26</th>\n",
       "      <td>GarageArea</td>\n",
       "      <td>0.383182</td>\n",
       "      <td>0.407326</td>\n",
       "      <td>63377.710181</td>\n",
       "    </tr>\n",
       "    <tr>\n",
       "      <th>38</th>\n",
       "      <td>BsmtQual_Coded</td>\n",
       "      <td>0.342356</td>\n",
       "      <td>0.340970</td>\n",
       "      <td>66831.518131</td>\n",
       "    </tr>\n",
       "    <tr>\n",
       "      <th>47</th>\n",
       "      <td>GarageFinish_Coded</td>\n",
       "      <td>0.297428</td>\n",
       "      <td>0.316285</td>\n",
       "      <td>68071.654684</td>\n",
       "    </tr>\n",
       "  </tbody>\n",
       "</table>\n",
       "</div>"
      ],
      "text/plain": [
       "              Feauture  train_score  test_score          RMSE\n",
       "4          OverallQual     0.620145    0.645463  49018.435788\n",
       "36     ExterQual_Coded     0.456558    0.499175  58260.148655\n",
       "16           GrLivArea     0.517889    0.444290  61369.555159\n",
       "44   KitchenQual_Coded     0.433710    0.439703  61622.301138\n",
       "12         TotalBsmtSF     0.363021    0.424913  62430.331676\n",
       "13            1stFlrSF     0.353373    0.416668  62876.256239\n",
       "25          GarageCars     0.409449    0.411931  63131.022101\n",
       "26          GarageArea     0.383182    0.407326  63377.710181\n",
       "38      BsmtQual_Coded     0.342356    0.340970  66831.518131\n",
       "47  GarageFinish_Coded     0.297428    0.316285  68071.654684"
      ]
     },
     "execution_count": 46,
     "metadata": {},
     "output_type": "execute_result"
    }
   ],
   "source": [
    "#Sorting the top 10 test scores\n",
    "final_df = empty_df.sort_values(by=['test_score'], ascending=False)\n",
    "final_dff=final_df.head(10)\n",
    "final_dff"
   ]
  },
  {
   "cell_type": "code",
   "execution_count": 47,
   "metadata": {},
   "outputs": [
    {
     "data": {
      "text/plain": [
       "('OverallQual', 'ExterQual_Coded')"
      ]
     },
     "execution_count": 47,
     "metadata": {},
     "output_type": "execute_result"
    }
   ],
   "source": [
    "#getting all combinations of 10 feautures\n",
    "my_combi=list(combinations(final_dff.Feauture.values, 2))\n",
    "my_combi[0]"
   ]
  },
  {
   "cell_type": "code",
   "execution_count": 48,
   "metadata": {},
   "outputs": [],
   "source": [
    "#3Training the model with two features at a time\n",
    "empty_df_final = pd.DataFrame(columns = ['Feauture1','Feauture2','train_score','test_score', 'RMSE'])\n",
    "for z in my_combi:\n",
    "    a=z[0]\n",
    "    b=z[1]\n",
    "    column_name1=a\n",
    "    column_name2=b\n",
    "    X_two=X_train[[a,b]]\n",
    "    linear_model.fit(X_two, y_train)\n",
    "    y_pred_two = linear_model.predict(X_test[[a,b]])\n",
    "    feauture_scores_two=linear_model.score(X_two, y_train)\n",
    "    test_feauture_scores_two=linear_model.score(X_test[[a,b]], y_test)\n",
    "    Rmse_two=np.sqrt(metrics.mean_squared_error(y_test,y_pred_two))\n",
    "    empty_df_final = empty_df_final.append({'Feauture1' : column_name1,'Feauture2' : column_name2, 'train_score' : feauture_scores_two, 'test_score': test_feauture_scores_two,'RMSE' : Rmse_two}, \n",
    "    ignore_index = True)"
   ]
  },
  {
   "cell_type": "code",
   "execution_count": 281,
   "metadata": {},
   "outputs": [
    {
     "data": {
      "text/html": [
       "<div>\n",
       "<style scoped>\n",
       "    .dataframe tbody tr th:only-of-type {\n",
       "        vertical-align: middle;\n",
       "    }\n",
       "\n",
       "    .dataframe tbody tr th {\n",
       "        vertical-align: top;\n",
       "    }\n",
       "\n",
       "    .dataframe thead th {\n",
       "        text-align: right;\n",
       "    }\n",
       "</style>\n",
       "<table border=\"1\" class=\"dataframe\">\n",
       "  <thead>\n",
       "    <tr style=\"text-align: right;\">\n",
       "      <th></th>\n",
       "      <th>Feauture1</th>\n",
       "      <th>Feauture2</th>\n",
       "      <th>train_score</th>\n",
       "      <th>test_score</th>\n",
       "      <th>RMSE</th>\n",
       "    </tr>\n",
       "  </thead>\n",
       "  <tbody>\n",
       "    <tr>\n",
       "      <th>0</th>\n",
       "      <td>OverallQual</td>\n",
       "      <td>GrLivArea</td>\n",
       "      <td>0.719790</td>\n",
       "      <td>0.692199</td>\n",
       "      <td>45673.467009</td>\n",
       "    </tr>\n",
       "    <tr>\n",
       "      <th>1</th>\n",
       "      <td>OverallQual</td>\n",
       "      <td>ExterQual_Coded</td>\n",
       "      <td>0.645496</td>\n",
       "      <td>0.668015</td>\n",
       "      <td>47433.824631</td>\n",
       "    </tr>\n",
       "    <tr>\n",
       "      <th>2</th>\n",
       "      <td>OverallQual</td>\n",
       "      <td>KitchenQual_Coded</td>\n",
       "      <td>0.650178</td>\n",
       "      <td>0.673087</td>\n",
       "      <td>47070.072304</td>\n",
       "    </tr>\n",
       "    <tr>\n",
       "      <th>3</th>\n",
       "      <td>OverallQual</td>\n",
       "      <td>GarageCars</td>\n",
       "      <td>0.667212</td>\n",
       "      <td>0.672325</td>\n",
       "      <td>47124.910052</td>\n",
       "    </tr>\n",
       "    <tr>\n",
       "      <th>4</th>\n",
       "      <td>OverallQual</td>\n",
       "      <td>GarageArea</td>\n",
       "      <td>0.669904</td>\n",
       "      <td>0.681395</td>\n",
       "      <td>46468.134901</td>\n",
       "    </tr>\n",
       "    <tr>\n",
       "      <th>5</th>\n",
       "      <td>OverallQual</td>\n",
       "      <td>TotalBsmtSF</td>\n",
       "      <td>0.666766</td>\n",
       "      <td>0.706791</td>\n",
       "      <td>44577.664096</td>\n",
       "    </tr>\n",
       "    <tr>\n",
       "      <th>6</th>\n",
       "      <td>OverallQual</td>\n",
       "      <td>1stFlrSF</td>\n",
       "      <td>0.686998</td>\n",
       "      <td>0.717388</td>\n",
       "      <td>43764.688318</td>\n",
       "    </tr>\n",
       "    <tr>\n",
       "      <th>7</th>\n",
       "      <td>OverallQual</td>\n",
       "      <td>BsmtQual_Coded</td>\n",
       "      <td>0.633166</td>\n",
       "      <td>0.656666</td>\n",
       "      <td>48237.754631</td>\n",
       "    </tr>\n",
       "    <tr>\n",
       "      <th>8</th>\n",
       "      <td>OverallQual</td>\n",
       "      <td>FullBath</td>\n",
       "      <td>0.646203</td>\n",
       "      <td>0.654407</td>\n",
       "      <td>48396.171085</td>\n",
       "    </tr>\n",
       "    <tr>\n",
       "      <th>9</th>\n",
       "      <td>GrLivArea</td>\n",
       "      <td>ExterQual_Coded</td>\n",
       "      <td>0.684981</td>\n",
       "      <td>0.634781</td>\n",
       "      <td>49751.391459</td>\n",
       "    </tr>\n",
       "    <tr>\n",
       "      <th>10</th>\n",
       "      <td>GrLivArea</td>\n",
       "      <td>KitchenQual_Coded</td>\n",
       "      <td>0.675586</td>\n",
       "      <td>0.606902</td>\n",
       "      <td>51615.352295</td>\n",
       "    </tr>\n",
       "    <tr>\n",
       "      <th>11</th>\n",
       "      <td>GrLivArea</td>\n",
       "      <td>GarageCars</td>\n",
       "      <td>0.631802</td>\n",
       "      <td>0.596687</td>\n",
       "      <td>52281.742673</td>\n",
       "    </tr>\n",
       "    <tr>\n",
       "      <th>12</th>\n",
       "      <td>GrLivArea</td>\n",
       "      <td>GarageArea</td>\n",
       "      <td>0.614104</td>\n",
       "      <td>0.596072</td>\n",
       "      <td>52321.567243</td>\n",
       "    </tr>\n",
       "    <tr>\n",
       "      <th>13</th>\n",
       "      <td>GrLivArea</td>\n",
       "      <td>TotalBsmtSF</td>\n",
       "      <td>0.619065</td>\n",
       "      <td>0.571193</td>\n",
       "      <td>53908.788204</td>\n",
       "    </tr>\n",
       "    <tr>\n",
       "      <th>14</th>\n",
       "      <td>GrLivArea</td>\n",
       "      <td>1stFlrSF</td>\n",
       "      <td>0.574026</td>\n",
       "      <td>0.524892</td>\n",
       "      <td>56744.643168</td>\n",
       "    </tr>\n",
       "    <tr>\n",
       "      <th>15</th>\n",
       "      <td>GrLivArea</td>\n",
       "      <td>BsmtQual_Coded</td>\n",
       "      <td>0.657906</td>\n",
       "      <td>0.581269</td>\n",
       "      <td>53271.697641</td>\n",
       "    </tr>\n",
       "    <tr>\n",
       "      <th>16</th>\n",
       "      <td>GrLivArea</td>\n",
       "      <td>FullBath</td>\n",
       "      <td>0.540654</td>\n",
       "      <td>0.461779</td>\n",
       "      <td>60396.129092</td>\n",
       "    </tr>\n",
       "    <tr>\n",
       "      <th>17</th>\n",
       "      <td>ExterQual_Coded</td>\n",
       "      <td>KitchenQual_Coded</td>\n",
       "      <td>0.515648</td>\n",
       "      <td>0.561480</td>\n",
       "      <td>54515.960376</td>\n",
       "    </tr>\n",
       "    <tr>\n",
       "      <th>18</th>\n",
       "      <td>ExterQual_Coded</td>\n",
       "      <td>GarageCars</td>\n",
       "      <td>0.569290</td>\n",
       "      <td>0.595875</td>\n",
       "      <td>52334.309055</td>\n",
       "    </tr>\n",
       "    <tr>\n",
       "      <th>19</th>\n",
       "      <td>ExterQual_Coded</td>\n",
       "      <td>GarageArea</td>\n",
       "      <td>0.566341</td>\n",
       "      <td>0.599368</td>\n",
       "      <td>52107.664319</td>\n",
       "    </tr>\n",
       "    <tr>\n",
       "      <th>20</th>\n",
       "      <td>ExterQual_Coded</td>\n",
       "      <td>TotalBsmtSF</td>\n",
       "      <td>0.562577</td>\n",
       "      <td>0.623021</td>\n",
       "      <td>50546.047839</td>\n",
       "    </tr>\n",
       "    <tr>\n",
       "      <th>21</th>\n",
       "      <td>ExterQual_Coded</td>\n",
       "      <td>1stFlrSF</td>\n",
       "      <td>0.588295</td>\n",
       "      <td>0.636405</td>\n",
       "      <td>49640.643171</td>\n",
       "    </tr>\n",
       "    <tr>\n",
       "      <th>22</th>\n",
       "      <td>ExterQual_Coded</td>\n",
       "      <td>BsmtQual_Coded</td>\n",
       "      <td>0.518269</td>\n",
       "      <td>0.545053</td>\n",
       "      <td>55527.623429</td>\n",
       "    </tr>\n",
       "    <tr>\n",
       "      <th>23</th>\n",
       "      <td>ExterQual_Coded</td>\n",
       "      <td>FullBath</td>\n",
       "      <td>0.530668</td>\n",
       "      <td>0.550411</td>\n",
       "      <td>55199.694643</td>\n",
       "    </tr>\n",
       "    <tr>\n",
       "      <th>24</th>\n",
       "      <td>KitchenQual_Coded</td>\n",
       "      <td>GarageCars</td>\n",
       "      <td>0.557762</td>\n",
       "      <td>0.567834</td>\n",
       "      <td>54119.562563</td>\n",
       "    </tr>\n",
       "    <tr>\n",
       "      <th>25</th>\n",
       "      <td>KitchenQual_Coded</td>\n",
       "      <td>GarageArea</td>\n",
       "      <td>0.552700</td>\n",
       "      <td>0.557445</td>\n",
       "      <td>54766.149611</td>\n",
       "    </tr>\n",
       "    <tr>\n",
       "      <th>26</th>\n",
       "      <td>KitchenQual_Coded</td>\n",
       "      <td>TotalBsmtSF</td>\n",
       "      <td>0.558783</td>\n",
       "      <td>0.599046</td>\n",
       "      <td>52128.621701</td>\n",
       "    </tr>\n",
       "    <tr>\n",
       "      <th>27</th>\n",
       "      <td>KitchenQual_Coded</td>\n",
       "      <td>1stFlrSF</td>\n",
       "      <td>0.574853</td>\n",
       "      <td>0.596879</td>\n",
       "      <td>52269.257276</td>\n",
       "    </tr>\n",
       "    <tr>\n",
       "      <th>28</th>\n",
       "      <td>KitchenQual_Coded</td>\n",
       "      <td>BsmtQual_Coded</td>\n",
       "      <td>0.514010</td>\n",
       "      <td>0.532859</td>\n",
       "      <td>56266.837646</td>\n",
       "    </tr>\n",
       "    <tr>\n",
       "      <th>29</th>\n",
       "      <td>KitchenQual_Coded</td>\n",
       "      <td>FullBath</td>\n",
       "      <td>0.531333</td>\n",
       "      <td>0.513459</td>\n",
       "      <td>57423.326350</td>\n",
       "    </tr>\n",
       "    <tr>\n",
       "      <th>30</th>\n",
       "      <td>GarageCars</td>\n",
       "      <td>GarageArea</td>\n",
       "      <td>0.423134</td>\n",
       "      <td>0.432905</td>\n",
       "      <td>61995.006197</td>\n",
       "    </tr>\n",
       "    <tr>\n",
       "      <th>31</th>\n",
       "      <td>GarageCars</td>\n",
       "      <td>TotalBsmtSF</td>\n",
       "      <td>0.546273</td>\n",
       "      <td>0.557316</td>\n",
       "      <td>54774.150984</td>\n",
       "    </tr>\n",
       "    <tr>\n",
       "      <th>32</th>\n",
       "      <td>GarageCars</td>\n",
       "      <td>1stFlrSF</td>\n",
       "      <td>0.535454</td>\n",
       "      <td>0.559115</td>\n",
       "      <td>54662.769998</td>\n",
       "    </tr>\n",
       "    <tr>\n",
       "      <th>33</th>\n",
       "      <td>GarageCars</td>\n",
       "      <td>BsmtQual_Coded</td>\n",
       "      <td>0.521289</td>\n",
       "      <td>0.519033</td>\n",
       "      <td>57093.457361</td>\n",
       "    </tr>\n",
       "    <tr>\n",
       "      <th>34</th>\n",
       "      <td>GarageCars</td>\n",
       "      <td>FullBath</td>\n",
       "      <td>0.504028</td>\n",
       "      <td>0.469618</td>\n",
       "      <td>59954.692652</td>\n",
       "    </tr>\n",
       "    <tr>\n",
       "      <th>35</th>\n",
       "      <td>GarageArea</td>\n",
       "      <td>TotalBsmtSF</td>\n",
       "      <td>0.508228</td>\n",
       "      <td>0.538125</td>\n",
       "      <td>55948.807553</td>\n",
       "    </tr>\n",
       "    <tr>\n",
       "      <th>36</th>\n",
       "      <td>GarageArea</td>\n",
       "      <td>1stFlrSF</td>\n",
       "      <td>0.497785</td>\n",
       "      <td>0.542283</td>\n",
       "      <td>55696.442890</td>\n",
       "    </tr>\n",
       "    <tr>\n",
       "      <th>37</th>\n",
       "      <td>GarageArea</td>\n",
       "      <td>BsmtQual_Coded</td>\n",
       "      <td>0.519698</td>\n",
       "      <td>0.522865</td>\n",
       "      <td>56865.592068</td>\n",
       "    </tr>\n",
       "    <tr>\n",
       "      <th>38</th>\n",
       "      <td>GarageArea</td>\n",
       "      <td>FullBath</td>\n",
       "      <td>0.505722</td>\n",
       "      <td>0.487358</td>\n",
       "      <td>58943.485438</td>\n",
       "    </tr>\n",
       "    <tr>\n",
       "      <th>39</th>\n",
       "      <td>TotalBsmtSF</td>\n",
       "      <td>1stFlrSF</td>\n",
       "      <td>0.396284</td>\n",
       "      <td>0.454213</td>\n",
       "      <td>60819.169854</td>\n",
       "    </tr>\n",
       "    <tr>\n",
       "      <th>40</th>\n",
       "      <td>TotalBsmtSF</td>\n",
       "      <td>BsmtQual_Coded</td>\n",
       "      <td>0.448427</td>\n",
       "      <td>0.501217</td>\n",
       "      <td>58141.304193</td>\n",
       "    </tr>\n",
       "    <tr>\n",
       "      <th>41</th>\n",
       "      <td>TotalBsmtSF</td>\n",
       "      <td>FullBath</td>\n",
       "      <td>0.524662</td>\n",
       "      <td>0.515206</td>\n",
       "      <td>57320.176422</td>\n",
       "    </tr>\n",
       "    <tr>\n",
       "      <th>42</th>\n",
       "      <td>1stFlrSF</td>\n",
       "      <td>BsmtQual_Coded</td>\n",
       "      <td>0.541718</td>\n",
       "      <td>0.573221</td>\n",
       "      <td>53781.197519</td>\n",
       "    </tr>\n",
       "    <tr>\n",
       "      <th>43</th>\n",
       "      <td>1stFlrSF</td>\n",
       "      <td>FullBath</td>\n",
       "      <td>0.493288</td>\n",
       "      <td>0.497710</td>\n",
       "      <td>58345.302820</td>\n",
       "    </tr>\n",
       "    <tr>\n",
       "      <th>44</th>\n",
       "      <td>BsmtQual_Coded</td>\n",
       "      <td>FullBath</td>\n",
       "      <td>0.485187</td>\n",
       "      <td>0.455962</td>\n",
       "      <td>60721.602160</td>\n",
       "    </tr>\n",
       "  </tbody>\n",
       "</table>\n",
       "</div>"
      ],
      "text/plain": [
       "            Feauture1          Feauture2  train_score  test_score  \\\n",
       "0         OverallQual          GrLivArea     0.719790    0.692199   \n",
       "1         OverallQual    ExterQual_Coded     0.645496    0.668015   \n",
       "2         OverallQual  KitchenQual_Coded     0.650178    0.673087   \n",
       "3         OverallQual         GarageCars     0.667212    0.672325   \n",
       "4         OverallQual         GarageArea     0.669904    0.681395   \n",
       "5         OverallQual        TotalBsmtSF     0.666766    0.706791   \n",
       "6         OverallQual           1stFlrSF     0.686998    0.717388   \n",
       "7         OverallQual     BsmtQual_Coded     0.633166    0.656666   \n",
       "8         OverallQual           FullBath     0.646203    0.654407   \n",
       "9           GrLivArea    ExterQual_Coded     0.684981    0.634781   \n",
       "10          GrLivArea  KitchenQual_Coded     0.675586    0.606902   \n",
       "11          GrLivArea         GarageCars     0.631802    0.596687   \n",
       "12          GrLivArea         GarageArea     0.614104    0.596072   \n",
       "13          GrLivArea        TotalBsmtSF     0.619065    0.571193   \n",
       "14          GrLivArea           1stFlrSF     0.574026    0.524892   \n",
       "15          GrLivArea     BsmtQual_Coded     0.657906    0.581269   \n",
       "16          GrLivArea           FullBath     0.540654    0.461779   \n",
       "17    ExterQual_Coded  KitchenQual_Coded     0.515648    0.561480   \n",
       "18    ExterQual_Coded         GarageCars     0.569290    0.595875   \n",
       "19    ExterQual_Coded         GarageArea     0.566341    0.599368   \n",
       "20    ExterQual_Coded        TotalBsmtSF     0.562577    0.623021   \n",
       "21    ExterQual_Coded           1stFlrSF     0.588295    0.636405   \n",
       "22    ExterQual_Coded     BsmtQual_Coded     0.518269    0.545053   \n",
       "23    ExterQual_Coded           FullBath     0.530668    0.550411   \n",
       "24  KitchenQual_Coded         GarageCars     0.557762    0.567834   \n",
       "25  KitchenQual_Coded         GarageArea     0.552700    0.557445   \n",
       "26  KitchenQual_Coded        TotalBsmtSF     0.558783    0.599046   \n",
       "27  KitchenQual_Coded           1stFlrSF     0.574853    0.596879   \n",
       "28  KitchenQual_Coded     BsmtQual_Coded     0.514010    0.532859   \n",
       "29  KitchenQual_Coded           FullBath     0.531333    0.513459   \n",
       "30         GarageCars         GarageArea     0.423134    0.432905   \n",
       "31         GarageCars        TotalBsmtSF     0.546273    0.557316   \n",
       "32         GarageCars           1stFlrSF     0.535454    0.559115   \n",
       "33         GarageCars     BsmtQual_Coded     0.521289    0.519033   \n",
       "34         GarageCars           FullBath     0.504028    0.469618   \n",
       "35         GarageArea        TotalBsmtSF     0.508228    0.538125   \n",
       "36         GarageArea           1stFlrSF     0.497785    0.542283   \n",
       "37         GarageArea     BsmtQual_Coded     0.519698    0.522865   \n",
       "38         GarageArea           FullBath     0.505722    0.487358   \n",
       "39        TotalBsmtSF           1stFlrSF     0.396284    0.454213   \n",
       "40        TotalBsmtSF     BsmtQual_Coded     0.448427    0.501217   \n",
       "41        TotalBsmtSF           FullBath     0.524662    0.515206   \n",
       "42           1stFlrSF     BsmtQual_Coded     0.541718    0.573221   \n",
       "43           1stFlrSF           FullBath     0.493288    0.497710   \n",
       "44     BsmtQual_Coded           FullBath     0.485187    0.455962   \n",
       "\n",
       "            RMSE  \n",
       "0   45673.467009  \n",
       "1   47433.824631  \n",
       "2   47070.072304  \n",
       "3   47124.910052  \n",
       "4   46468.134901  \n",
       "5   44577.664096  \n",
       "6   43764.688318  \n",
       "7   48237.754631  \n",
       "8   48396.171085  \n",
       "9   49751.391459  \n",
       "10  51615.352295  \n",
       "11  52281.742673  \n",
       "12  52321.567243  \n",
       "13  53908.788204  \n",
       "14  56744.643168  \n",
       "15  53271.697641  \n",
       "16  60396.129092  \n",
       "17  54515.960376  \n",
       "18  52334.309055  \n",
       "19  52107.664319  \n",
       "20  50546.047839  \n",
       "21  49640.643171  \n",
       "22  55527.623429  \n",
       "23  55199.694643  \n",
       "24  54119.562563  \n",
       "25  54766.149611  \n",
       "26  52128.621701  \n",
       "27  52269.257276  \n",
       "28  56266.837646  \n",
       "29  57423.326350  \n",
       "30  61995.006197  \n",
       "31  54774.150984  \n",
       "32  54662.769998  \n",
       "33  57093.457361  \n",
       "34  59954.692652  \n",
       "35  55948.807553  \n",
       "36  55696.442890  \n",
       "37  56865.592068  \n",
       "38  58943.485438  \n",
       "39  60819.169854  \n",
       "40  58141.304193  \n",
       "41  57320.176422  \n",
       "42  53781.197519  \n",
       "43  58345.302820  \n",
       "44  60721.602160  "
      ]
     },
     "execution_count": 281,
     "metadata": {},
     "output_type": "execute_result"
    }
   ],
   "source": [
    "empty_df_final"
   ]
  },
  {
   "cell_type": "code",
   "execution_count": 49,
   "metadata": {},
   "outputs": [
    {
     "data": {
      "text/html": [
       "<div>\n",
       "<style scoped>\n",
       "    .dataframe tbody tr th:only-of-type {\n",
       "        vertical-align: middle;\n",
       "    }\n",
       "\n",
       "    .dataframe tbody tr th {\n",
       "        vertical-align: top;\n",
       "    }\n",
       "\n",
       "    .dataframe thead th {\n",
       "        text-align: right;\n",
       "    }\n",
       "</style>\n",
       "<table border=\"1\" class=\"dataframe\">\n",
       "  <thead>\n",
       "    <tr style=\"text-align: right;\">\n",
       "      <th></th>\n",
       "      <th>Feauture1</th>\n",
       "      <th>Feauture2</th>\n",
       "      <th>train_score</th>\n",
       "      <th>test_score</th>\n",
       "      <th>RMSE</th>\n",
       "    </tr>\n",
       "  </thead>\n",
       "  <tbody>\n",
       "    <tr>\n",
       "      <th>4</th>\n",
       "      <td>OverallQual</td>\n",
       "      <td>1stFlrSF</td>\n",
       "      <td>0.686998</td>\n",
       "      <td>0.717388</td>\n",
       "      <td>43764.688318</td>\n",
       "    </tr>\n",
       "    <tr>\n",
       "      <th>3</th>\n",
       "      <td>OverallQual</td>\n",
       "      <td>TotalBsmtSF</td>\n",
       "      <td>0.666766</td>\n",
       "      <td>0.706791</td>\n",
       "      <td>44577.664096</td>\n",
       "    </tr>\n",
       "    <tr>\n",
       "      <th>1</th>\n",
       "      <td>OverallQual</td>\n",
       "      <td>GrLivArea</td>\n",
       "      <td>0.719790</td>\n",
       "      <td>0.692199</td>\n",
       "      <td>45673.467009</td>\n",
       "    </tr>\n",
       "    <tr>\n",
       "      <th>6</th>\n",
       "      <td>OverallQual</td>\n",
       "      <td>GarageArea</td>\n",
       "      <td>0.669904</td>\n",
       "      <td>0.681395</td>\n",
       "      <td>46468.134901</td>\n",
       "    </tr>\n",
       "    <tr>\n",
       "      <th>2</th>\n",
       "      <td>OverallQual</td>\n",
       "      <td>KitchenQual_Coded</td>\n",
       "      <td>0.650178</td>\n",
       "      <td>0.673087</td>\n",
       "      <td>47070.072304</td>\n",
       "    </tr>\n",
       "    <tr>\n",
       "      <th>5</th>\n",
       "      <td>OverallQual</td>\n",
       "      <td>GarageCars</td>\n",
       "      <td>0.667212</td>\n",
       "      <td>0.672325</td>\n",
       "      <td>47124.910052</td>\n",
       "    </tr>\n",
       "    <tr>\n",
       "      <th>0</th>\n",
       "      <td>OverallQual</td>\n",
       "      <td>ExterQual_Coded</td>\n",
       "      <td>0.645496</td>\n",
       "      <td>0.668015</td>\n",
       "      <td>47433.824631</td>\n",
       "    </tr>\n",
       "    <tr>\n",
       "      <th>7</th>\n",
       "      <td>OverallQual</td>\n",
       "      <td>BsmtQual_Coded</td>\n",
       "      <td>0.633166</td>\n",
       "      <td>0.656666</td>\n",
       "      <td>48237.754631</td>\n",
       "    </tr>\n",
       "    <tr>\n",
       "      <th>8</th>\n",
       "      <td>OverallQual</td>\n",
       "      <td>GarageFinish_Coded</td>\n",
       "      <td>0.640200</td>\n",
       "      <td>0.651902</td>\n",
       "      <td>48571.271663</td>\n",
       "    </tr>\n",
       "    <tr>\n",
       "      <th>12</th>\n",
       "      <td>ExterQual_Coded</td>\n",
       "      <td>1stFlrSF</td>\n",
       "      <td>0.588295</td>\n",
       "      <td>0.636405</td>\n",
       "      <td>49640.643171</td>\n",
       "    </tr>\n",
       "  </tbody>\n",
       "</table>\n",
       "</div>"
      ],
      "text/plain": [
       "          Feauture1           Feauture2  train_score  test_score          RMSE\n",
       "4       OverallQual            1stFlrSF     0.686998    0.717388  43764.688318\n",
       "3       OverallQual         TotalBsmtSF     0.666766    0.706791  44577.664096\n",
       "1       OverallQual           GrLivArea     0.719790    0.692199  45673.467009\n",
       "6       OverallQual          GarageArea     0.669904    0.681395  46468.134901\n",
       "2       OverallQual   KitchenQual_Coded     0.650178    0.673087  47070.072304\n",
       "5       OverallQual          GarageCars     0.667212    0.672325  47124.910052\n",
       "0       OverallQual     ExterQual_Coded     0.645496    0.668015  47433.824631\n",
       "7       OverallQual      BsmtQual_Coded     0.633166    0.656666  48237.754631\n",
       "8       OverallQual  GarageFinish_Coded     0.640200    0.651902  48571.271663\n",
       "12  ExterQual_Coded            1stFlrSF     0.588295    0.636405  49640.643171"
      ]
     },
     "execution_count": 49,
     "metadata": {},
     "output_type": "execute_result"
    }
   ],
   "source": [
    "#sorting and saving the top 10 feautures\n",
    "two_final_df = empty_df_final.sort_values(by=['test_score'], ascending=False)\n",
    "two_final_dff=two_final_df.head(10)\n",
    "two_final_dff"
   ]
  },
  {
   "cell_type": "code",
   "execution_count": 50,
   "metadata": {},
   "outputs": [
    {
     "data": {
      "text/plain": [
       "LinearRegression()"
      ]
     },
     "execution_count": 50,
     "metadata": {},
     "output_type": "execute_result"
    }
   ],
   "source": [
    "4.#fitting the model with all feautures at a time\n",
    "linear_model.fit(X_train, y_train)"
   ]
  },
  {
   "cell_type": "code",
   "execution_count": 51,
   "metadata": {},
   "outputs": [],
   "source": [
    "#making predictions on test data\n",
    "y_pred = linear_model.predict(X_test)"
   ]
  },
  {
   "cell_type": "code",
   "execution_count": 52,
   "metadata": {},
   "outputs": [
    {
     "data": {
      "text/plain": [
       "35623.303450007385"
      ]
     },
     "execution_count": 52,
     "metadata": {},
     "output_type": "execute_result"
    }
   ],
   "source": [
    "all_rmse=np.sqrt(mean_squared_error(y_test, y_pred))\n",
    "all_rmse"
   ]
  },
  {
   "cell_type": "code",
   "execution_count": 53,
   "metadata": {},
   "outputs": [
    {
     "data": {
      "text/plain": [
       "0.9287445945544778"
      ]
     },
     "execution_count": 53,
     "metadata": {},
     "output_type": "execute_result"
    }
   ],
   "source": [
    "#Score obtained with training data sets\n",
    "linear_model.score(X_train,y_train)"
   ]
  },
  {
   "cell_type": "code",
   "execution_count": 54,
   "metadata": {},
   "outputs": [
    {
     "data": {
      "text/plain": [
       "0.8127547098527904"
      ]
     },
     "execution_count": 54,
     "metadata": {},
     "output_type": "execute_result"
    }
   ],
   "source": [
    "#Score obtained with test data sets\n",
    "linear_model.score(X_test,y_test)"
   ]
  },
  {
   "cell_type": "code",
   "execution_count": 55,
   "metadata": {},
   "outputs": [
    {
     "data": {
      "text/plain": [
       "KNeighborsRegressor()"
      ]
     },
     "execution_count": 55,
     "metadata": {},
     "output_type": "execute_result"
    }
   ],
   "source": [
    "#5 fittting the model with training set with K=5\n",
    "from sklearn.neighbors import KNeighborsRegressor\n",
    "neigh = KNeighborsRegressor(n_neighbors=5)\n",
    "neigh.fit(X_train, y_train)"
   ]
  },
  {
   "cell_type": "code",
   "execution_count": 56,
   "metadata": {},
   "outputs": [],
   "source": [
    "five_y_pred=neigh.predict(X_test)"
   ]
  },
  {
   "cell_type": "code",
   "execution_count": 57,
   "metadata": {},
   "outputs": [
    {
     "data": {
      "text/plain": [
       "51966.07983368139"
      ]
     },
     "execution_count": 57,
     "metadata": {},
     "output_type": "execute_result"
    }
   ],
   "source": [
    "five_all_rmse=np.sqrt(mean_squared_error(y_test,five_y_pred))\n",
    "five_all_rmse"
   ]
  },
  {
   "cell_type": "code",
   "execution_count": 58,
   "metadata": {},
   "outputs": [
    {
     "data": {
      "text/plain": [
       "0.7717466301028698"
      ]
     },
     "execution_count": 58,
     "metadata": {},
     "output_type": "execute_result"
    }
   ],
   "source": [
    "neigh.score(X_train, y_train)"
   ]
  },
  {
   "cell_type": "code",
   "execution_count": 59,
   "metadata": {},
   "outputs": [
    {
     "data": {
      "text/plain": [
       "0.6015421069563245"
      ]
     },
     "execution_count": 59,
     "metadata": {},
     "output_type": "execute_result"
    }
   ],
   "source": [
    "neigh.score(X_test, y_test)"
   ]
  },
  {
   "cell_type": "code",
   "execution_count": 62,
   "metadata": {},
   "outputs": [
    {
     "data": {
      "text/plain": [
       "KNeighborsRegressor(n_neighbors=10)"
      ]
     },
     "execution_count": 62,
     "metadata": {},
     "output_type": "execute_result"
    }
   ],
   "source": [
    "# fittting the model with training set with K=10\n",
    "neigh10 = KNeighborsRegressor(n_neighbors=10)\n",
    "neigh10.fit(X_train, y_train)"
   ]
  },
  {
   "cell_type": "code",
   "execution_count": 64,
   "metadata": {},
   "outputs": [],
   "source": [
    "ten_y_pred=neigh10.predict(X_test)"
   ]
  },
  {
   "cell_type": "code",
   "execution_count": 66,
   "metadata": {},
   "outputs": [
    {
     "data": {
      "text/plain": [
       "52392.16317256475"
      ]
     },
     "execution_count": 66,
     "metadata": {},
     "output_type": "execute_result"
    }
   ],
   "source": [
    "ten_all_rmse=np.sqrt(mean_squared_error(y_test,ten_y_pred))\n",
    "ten_all_rmse"
   ]
  },
  {
   "cell_type": "code",
   "execution_count": 67,
   "metadata": {},
   "outputs": [
    {
     "data": {
      "text/plain": [
       "0.7130756140255491"
      ]
     },
     "execution_count": 67,
     "metadata": {},
     "output_type": "execute_result"
    }
   ],
   "source": [
    "neigh10.score(X_train, y_train)"
   ]
  },
  {
   "cell_type": "code",
   "execution_count": 68,
   "metadata": {},
   "outputs": [
    {
     "data": {
      "text/plain": [
       "0.5949812006956909"
      ]
     },
     "execution_count": 68,
     "metadata": {},
     "output_type": "execute_result"
    }
   ],
   "source": [
    "neigh10.score(X_test, y_test)"
   ]
  },
  {
   "cell_type": "markdown",
   "metadata": {},
   "source": [
    "INFERENCE\n",
    "1.Out of 5KNN and 10KNN regressors, 5KNN shows least RMSE and also has high accuracy than 10 KNN which may imply optimum K value lies between both\n",
    "\n",
    "2.Linear regressor with one feauture seems better than N-KNN as it has low RMSE and high accuracy.\n",
    "\n",
    "3.Linear Regressor with two features has better accuracy in prediction than one feature \n",
    "\n",
    "4.Overall When all the feautures are considered in the linear regressor the model shows high accuracy of 81% and also low error rate"
   ]
  }
 ],
 "metadata": {
  "kernelspec": {
   "display_name": "Python 3",
   "language": "python",
   "name": "python3"
  },
  "language_info": {
   "codemirror_mode": {
    "name": "ipython",
    "version": 3
   },
   "file_extension": ".py",
   "mimetype": "text/x-python",
   "name": "python",
   "nbconvert_exporter": "python",
   "pygments_lexer": "ipython3",
   "version": "3.8.5"
  }
 },
 "nbformat": 4,
 "nbformat_minor": 4
}
